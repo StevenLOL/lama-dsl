{
 "cells": [
  {
   "cell_type": "markdown",
   "metadata": {},
   "source": [
    "# Notes\n",
    "1. Use binary classification\n",
    "2. Merge training and dev data; use cross-validation\n",
    "\n",
    "3. Use char 6-grams, but also test 7+ is memory and time permits\n",
    "9. Word n-grams (1-3)\n",
    "10. Use term weighting\n",
    "\n",
    "4. nrc uses linear kernel with SVM\n",
    "5. Also consider XGB or LightGBM\n",
    "8. Logistic regression with L2 reg and C=1\n",
    "\n",
    "6. Blacklists/whitelists\n",
    "7. Dimensionality reduction\n",
    "\n",
    "11. Create confusion matrices"
   ]
  }
 ],
 "metadata": {
  "kernelspec": {
   "display_name": "Python 3",
   "language": "python",
   "name": "python3"
  },
  "language_info": {
   "codemirror_mode": {
    "name": "ipython",
    "version": 3
   },
   "file_extension": ".py",
   "mimetype": "text/x-python",
   "name": "python",
   "nbconvert_exporter": "python",
   "pygments_lexer": "ipython3",
   "version": "3.6.3"
  }
 },
 "nbformat": 4,
 "nbformat_minor": 2
}
